{
  "cells": [
    {
      "cell_type": "code",
      "execution_count": null,
      "metadata": {
        "collapsed": false
      },
      "outputs": [],
      "source": [
        "%matplotlib inline"
      ]
    },
    {
      "cell_type": "markdown",
      "metadata": {},
      "source": [
        "\n# Deploying recommender models\n\n\nDeploying a recommendation models is not always easy. Typically a users and\nproducts in a ratings matrix don't have positional keys and require a layer of\nitem or user encoding.\n\n.. raw:: html\n\n   <br/>\n\nThe example demonstrates how we can use the deployment wrapper to automatically\nhandle the encoding of user IDs as well as item IDs. This wrapper can easily\nsit behind a REST endpoint to serve recommendations, given the user's rating\nhistory.\n\n.. raw:: html\n\n   <br/>\n\n"
      ]
    },
    {
      "cell_type": "code",
      "execution_count": null,
      "metadata": {
        "collapsed": false
      },
      "outputs": [],
      "source": [
        "print(__doc__)\n\n# Author: Taylor G Smith <taylor.smith@alkaline-ml.com>\n\nfrom reclab.datasets import load_lastfm\nfrom reclab.model_selection import train_test_split\nfrom reclab.model_deployment import RecommenderDeployment\nfrom reclab.collab import AlternatingLeastSquares\nfrom reclab.utils import to_sparse_csr\nfrom sklearn.preprocessing import LabelEncoder\nimport numpy as np\n\n# #############################################################################\n# Load data and encode it, then split it\nlastfm = load_lastfm(cache=True, as_sparse=False)\nusers = lastfm.users\nitems = lastfm.products\nratings = lastfm.ratings\nartists = lastfm.artists\n\n# We need to encode the users/items. If you use as_sparse=True, they come\n# pre-encoded, but we will do it here manually for example.\nuser_le = LabelEncoder()\nitem_le = LabelEncoder()\nusers_transformed = user_le.fit_transform(users)\nitems_transformed = item_le.fit_transform(items)\n\n# Split the data\nX = to_sparse_csr(u=users_transformed,\n                  i=items_transformed,\n                  r=ratings, axis=0, dtype=np.float32)\ntrain, test = train_test_split(X, train_size=0.75, random_state=42)\n\n# #############################################################################\n# Fit our model, make our deployment object\nals = AlternatingLeastSquares(\n    random_state=42, use_gpu=False, use_cg=True,\n    iterations=50, factors=100)\nals.fit(train)\n\n# This is what you'd persist:\nwrapper = RecommenderDeployment(\n    estimator=als, user_missing_strategy=\"error\",\n\n    # These are optional, and can be None if you don't want transformed recs\n    item_encoder=item_le, user_encoder=user_le)\n\n# #############################################################################\n# Generate predictions for a fan of classic rock\n\ndef top_listener(of):\n    musician_id = [i for i, v in artists.items() if v == of][0]\n    listen_mask = items == musician_id\n    musician_listens = ratings[listen_mask]\n    musician_listeners = users[listen_mask]\n    sorted_listeners = np.argsort(-musician_listens)\n    return musician_listeners[sorted_listeners[0]]\n\n# Get the top listener of the band\nrock_listener = top_listener(\"Led Zeppelin\")\n\n# Get the ratings for a user in a dictionary.\ndef ratings_for_user(user):\n    mask = users == user\n    return dict(zip(items[mask], ratings[mask]))\n\n# User the wrapper to get a recommendation for the user based on all of his/her\n# ratings to date. NOTE:\n#\n#   * The userid is NOT encoded!\n#   * The item IDs are NOT encoded!\n#\n# These are handled by the wrapper\nrecs = wrapper.recommend_for_user(userid=rock_listener,\n                                  ratings=ratings_for_user(rock_listener),\n                                  n=5, filter_previously_rated=False)\n\n# We can map these back to the artists, if we so choose. Since the recs are\n# already inverse-transformed, we can look them up in the artist dictionary.\nmapped_recs = [artists[i] for i in recs]\nprint(\"User #%i's top 5 recommended artists: %s\"\n      % (rock_listener, str(mapped_recs)))"
      ]
    }
  ],
  "metadata": {
    "kernelspec": {
      "display_name": "Python 3",
      "language": "python",
      "name": "python3"
    },
    "language_info": {
      "codemirror_mode": {
        "name": "ipython",
        "version": 3
      },
      "file_extension": ".py",
      "mimetype": "text/x-python",
      "name": "python",
      "nbconvert_exporter": "python",
      "pygments_lexer": "ipython3",
      "version": "3.6.7"
    }
  },
  "nbformat": 4,
  "nbformat_minor": 0
}