{
  "cells": [
    {
      "cell_type": "code",
      "execution_count": null,
      "metadata": {
        "collapsed": false
      },
      "outputs": [],
      "source": [
        "%matplotlib inline"
      ]
    },
    {
      "cell_type": "markdown",
      "metadata": {},
      "source": [
        "\n# Fitting ALS on LastFM\n\n\nDemonstrates how to fit a vanilla Alternating Least Squares model on the\nreclab-native LastFM dataset with implicit ratings.\n\n.. raw:: html\n\n   <br/>\n\n"
      ]
    },
    {
      "cell_type": "code",
      "execution_count": null,
      "metadata": {
        "collapsed": false
      },
      "outputs": [],
      "source": [
        "print(__doc__)\n\n# Author: Taylor G Smith <taylor.smith@alkaline-ml.com>\n\nfrom reclab.datasets import load_lastfm\nfrom reclab.model_selection import train_test_split\nfrom reclab.collab import AlternatingLeastSquares as ALS\nimport numpy as np\n\n# #############################################################################\n# Load data and split into train/test\nlastfm = load_lastfm(cache=True, as_sparse=True)\ntrain, test = train_test_split(lastfm.ratings, random_state=42)\n\nprint(\"Train:\")\nprint(repr(train))\nprint(\"\\nTest:\")\nprint(repr(test))\n\n# #############################################################################\n# Fit our model\nals = ALS(random_state=1, use_gpu=False, use_cg=True,\n          iterations=25, factors=100)\nals.fit(train)\n\n# #############################################################################\n# Generate predictions (on the test set) for a user who is a metal head like me\nartists = lastfm.artists\nmayhem_id = np.where(artists == \"Mayhem\")[0][0]\nmayhem_listens = train[:, mayhem_id].toarray().ravel()\nmayhem_listeners = np.argsort(-mayhem_listens)\nmayhem_appreciator = mayhem_listeners[0]  # Has the best taste in music :)\nprint(\"\\nUser #%i listened to Mayhem %i times.\\nThis user's top 5 \"\n      \"most-listened-to artists are:\\n%s\"\n      % (mayhem_appreciator, int(train[mayhem_appreciator, mayhem_id]),\n         str(artists[np.argsort(\n             -train[mayhem_appreciator, :].toarray())][0, :5])))\n\n# Use the most current ratings matrix and filter ones the user has seen\nrecommended = als.recommend_for_user(mayhem_appreciator, lastfm.ratings,\n                                     return_scores=False, n=5,\n                                     filter_previously_rated=True)\nmapped_recs = lastfm.artists[recommended]\nprint(\"\\nUser #%i's top 5 recommended (unheard) artists:\\n%s\"\n      % (mayhem_appreciator, str(mapped_recs)))"
      ]
    }
  ],
  "metadata": {
    "kernelspec": {
      "display_name": "Python 3",
      "language": "python",
      "name": "python3"
    },
    "language_info": {
      "codemirror_mode": {
        "name": "ipython",
        "version": 3
      },
      "file_extension": ".py",
      "mimetype": "text/x-python",
      "name": "python",
      "nbconvert_exporter": "python",
      "pygments_lexer": "ipython3",
      "version": "3.6.7"
    }
  },
  "nbformat": 4,
  "nbformat_minor": 0
}